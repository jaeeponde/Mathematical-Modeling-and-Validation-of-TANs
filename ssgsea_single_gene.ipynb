{
 "cells": [
  {
   "cell_type": "code",
   "execution_count": 5,
   "metadata": {},
   "outputs": [
    {
     "name": "stdout",
     "output_type": "stream",
     "text": [
      "Created /Users/jaeeponde/Documents/iisc training/genesig_neutrophils/AGER.gmt\n",
      "Created /Users/jaeeponde/Documents/iisc training/genesig_neutrophils/AKT1.gmt\n",
      "Created /Users/jaeeponde/Documents/iisc training/genesig_neutrophils/APOB.gmt\n",
      "Created /Users/jaeeponde/Documents/iisc training/genesig_neutrophils/BLK.gmt\n",
      "Created /Users/jaeeponde/Documents/iisc training/genesig_neutrophils/CCN2.gmt\n",
      "Created /Users/jaeeponde/Documents/iisc training/genesig_neutrophils/FGR.gmt\n",
      "Created /Users/jaeeponde/Documents/iisc training/genesig_neutrophils/FYN.gmt\n",
      "Created /Users/jaeeponde/Documents/iisc training/genesig_neutrophils/HCK.gmt\n",
      "Created /Users/jaeeponde/Documents/iisc training/genesig_neutrophils/HMGB1.gmt\n",
      "Created /Users/jaeeponde/Documents/iisc training/genesig_neutrophils/ICAM1.gmt\n",
      "Created /Users/jaeeponde/Documents/iisc training/genesig_neutrophils/IL6.gmt\n",
      "Created /Users/jaeeponde/Documents/iisc training/genesig_neutrophils/ITGAM.gmt\n",
      "Created /Users/jaeeponde/Documents/iisc training/genesig_neutrophils/ITGB2.gmt\n",
      "Created /Users/jaeeponde/Documents/iisc training/genesig_neutrophils/JAM2.gmt\n",
      "Created /Users/jaeeponde/Documents/iisc training/genesig_neutrophils/JAM3.gmt\n",
      "Created /Users/jaeeponde/Documents/iisc training/genesig_neutrophils/LCK.gmt\n",
      "Created /Users/jaeeponde/Documents/iisc training/genesig_neutrophils/LPA.gmt\n",
      "Created /Users/jaeeponde/Documents/iisc training/genesig_neutrophils/LRP1.gmt\n",
      "Created /Users/jaeeponde/Documents/iisc training/genesig_neutrophils/LYN.gmt\n",
      "Created /Users/jaeeponde/Documents/iisc training/genesig_neutrophils/MMP2.gmt\n",
      "Created /Users/jaeeponde/Documents/iisc training/genesig_neutrophils/MMP9.gmt\n",
      "Created /Users/jaeeponde/Documents/iisc training/genesig_neutrophils/MST1.gmt\n",
      "Created /Users/jaeeponde/Documents/iisc training/genesig_neutrophils/MST1R.gmt\n",
      "Created /Users/jaeeponde/Documents/iisc training/genesig_neutrophils/MYH2.gmt\n",
      "Created /Users/jaeeponde/Documents/iisc training/genesig_neutrophils/NFKB1.gmt\n",
      "Created /Users/jaeeponde/Documents/iisc training/genesig_neutrophils/PLAT.gmt\n",
      "Created /Users/jaeeponde/Documents/iisc training/genesig_neutrophils/PLAU.gmt\n",
      "Created /Users/jaeeponde/Documents/iisc training/genesig_neutrophils/PLAUR.gmt\n",
      "Created /Users/jaeeponde/Documents/iisc training/genesig_neutrophils/PLG.gmt\n",
      "Created /Users/jaeeponde/Documents/iisc training/genesig_neutrophils/PRKCZ.gmt\n",
      "Created /Users/jaeeponde/Documents/iisc training/genesig_neutrophils/RAP1A.gmt\n",
      "Created /Users/jaeeponde/Documents/iisc training/genesig_neutrophils/RAP1B.gmt\n",
      "Created /Users/jaeeponde/Documents/iisc training/genesig_neutrophils/RHOA.gmt\n",
      "Created /Users/jaeeponde/Documents/iisc training/genesig_neutrophils/ROCK1.gmt\n",
      "Created /Users/jaeeponde/Documents/iisc training/genesig_neutrophils/SELP.gmt\n",
      "Created /Users/jaeeponde/Documents/iisc training/genesig_neutrophils/SELPLG.gmt\n",
      "Created /Users/jaeeponde/Documents/iisc training/genesig_neutrophils/SRC.gmt\n",
      "Created /Users/jaeeponde/Documents/iisc training/genesig_neutrophils/THY1.gmt\n",
      "Created /Users/jaeeponde/Documents/iisc training/genesig_neutrophils/TLN1.gmt\n",
      "Created /Users/jaeeponde/Documents/iisc training/genesig_neutrophils/TNF.gmt\n",
      "Created /Users/jaeeponde/Documents/iisc training/genesig_neutrophils/YES1.gmt\n",
      "All GMT files have been created.\n"
     ]
    }
   ],
   "source": [
    "# import os\n",
    "\n",
    "# # Define the input file and output directory\n",
    "# input_gmt_file = '/Users/jaeeponde/Documents/iisc training/ssgsea/pid_copy.gmt'\n",
    "# output_directory = '/Users/jaeeponde/Documents/iisc training/genesig_neutrophils'\n",
    "\n",
    "# # Ensure the output directory exists\n",
    "# if not os.path.exists(output_directory):\n",
    "#     os.makedirs(output_directory)\n",
    "\n",
    "# # Read the original GMT file\n",
    "# with open(input_gmt_file, 'r') as file:\n",
    "#     content = file.read()\n",
    "\n",
    "# # Split the content by tabs to get individual words\n",
    "# words = content.strip().split('\\t')\n",
    "\n",
    "# # Iterate through each word and create a new GMT file\n",
    "# for i, word in enumerate(words):\n",
    "#     output_file = os.path.join(output_directory, f'{word}.gmt')\n",
    "#     with open(output_file, 'w') as out_file:\n",
    "#         out_file.write('PID_AMB2_NEUTROPHILS_PATHWAY\thttps://www.gsea-msigdb.org/gsea/msigdb/human/geneset/PID_AMB2_NEUTROPHILS_PATHWAY  ')\t\n",
    "#         out_file.write(word)\n",
    "#         out_file.write('\\n')\n",
    "#     print(f\"Created {output_file}\")\n",
    "\n",
    "# print(\"All GMT files have been created.\")\n"
   ]
  },
  {
   "cell_type": "code",
   "execution_count": 41,
   "metadata": {},
   "outputs": [],
   "source": [
    "import os\n",
    "import gseapy as gp\n",
    "import pandas as pd\n",
    "import matplotlib.pyplot as plt\n",
    "from scipy.stats import pearsonr"
   ]
  },
  {
   "cell_type": "code",
   "execution_count": 42,
   "metadata": {},
   "outputs": [],
   "source": [
    "\n",
    "data=\"/Users/jaeeponde/Documents/iisc training/TGCA/TCGA.PRAD.sampleMap_HiSeqV2\"\n",
    "gene_sets1=\"/Users/jaeeponde/Documents/iisc training/ssgsea/HALLMARK_EPITHELIAL_MESENCHYMAL_TRANSITION.v2023.2.Hs.gmt\"\n",
    "ss1 = gp.ssgsea( data=data,\n",
    "gene_sets = gene_sets1,\n",
    "outdir=None,\n",
    "sample_norm_method='rank',\n",
    "max_size=300,\n",
    "min_size=20,\n",
    "no_plot=True)"
   ]
  },
  {
   "cell_type": "code",
   "execution_count": 43,
   "metadata": {},
   "outputs": [
    {
     "data": {
      "text/html": [
       "<div>\n",
       "<style scoped>\n",
       "    .dataframe tbody tr th:only-of-type {\n",
       "        vertical-align: middle;\n",
       "    }\n",
       "\n",
       "    .dataframe tbody tr th {\n",
       "        vertical-align: top;\n",
       "    }\n",
       "\n",
       "    .dataframe thead th {\n",
       "        text-align: right;\n",
       "    }\n",
       "</style>\n",
       "<table border=\"1\" class=\"dataframe\">\n",
       "  <thead>\n",
       "    <tr style=\"text-align: right;\">\n",
       "      <th></th>\n",
       "      <th>Name</th>\n",
       "      <th>Term</th>\n",
       "      <th>ES</th>\n",
       "      <th>NES</th>\n",
       "    </tr>\n",
       "  </thead>\n",
       "  <tbody>\n",
       "    <tr>\n",
       "      <th>406</th>\n",
       "      <td>TCGA-2A-A8VL-01</td>\n",
       "      <td>HALLMARK_EPITHELIAL_MESENCHYMAL_TRANSITION</td>\n",
       "      <td>4046.940536</td>\n",
       "      <td>0.764588</td>\n",
       "    </tr>\n",
       "    <tr>\n",
       "      <th>334</th>\n",
       "      <td>TCGA-2A-A8VO-01</td>\n",
       "      <td>HALLMARK_EPITHELIAL_MESENCHYMAL_TRANSITION</td>\n",
       "      <td>4313.461412</td>\n",
       "      <td>0.814941</td>\n",
       "    </tr>\n",
       "    <tr>\n",
       "      <th>494</th>\n",
       "      <td>TCGA-2A-A8VT-01</td>\n",
       "      <td>HALLMARK_EPITHELIAL_MESENCHYMAL_TRANSITION</td>\n",
       "      <td>3503.818095</td>\n",
       "      <td>0.661976</td>\n",
       "    </tr>\n",
       "    <tr>\n",
       "      <th>357</th>\n",
       "      <td>TCGA-2A-A8VV-01</td>\n",
       "      <td>HALLMARK_EPITHELIAL_MESENCHYMAL_TRANSITION</td>\n",
       "      <td>4228.90533</td>\n",
       "      <td>0.798966</td>\n",
       "    </tr>\n",
       "    <tr>\n",
       "      <th>451</th>\n",
       "      <td>TCGA-2A-A8VX-01</td>\n",
       "      <td>HALLMARK_EPITHELIAL_MESENCHYMAL_TRANSITION</td>\n",
       "      <td>3723.769472</td>\n",
       "      <td>0.703531</td>\n",
       "    </tr>\n",
       "  </tbody>\n",
       "</table>\n",
       "</div>"
      ],
      "text/plain": [
       "                Name                                        Term           ES  \\\n",
       "406  TCGA-2A-A8VL-01  HALLMARK_EPITHELIAL_MESENCHYMAL_TRANSITION  4046.940536   \n",
       "334  TCGA-2A-A8VO-01  HALLMARK_EPITHELIAL_MESENCHYMAL_TRANSITION  4313.461412   \n",
       "494  TCGA-2A-A8VT-01  HALLMARK_EPITHELIAL_MESENCHYMAL_TRANSITION  3503.818095   \n",
       "357  TCGA-2A-A8VV-01  HALLMARK_EPITHELIAL_MESENCHYMAL_TRANSITION   4228.90533   \n",
       "451  TCGA-2A-A8VX-01  HALLMARK_EPITHELIAL_MESENCHYMAL_TRANSITION  3723.769472   \n",
       "\n",
       "          NES  \n",
       "406  0.764588  \n",
       "334  0.814941  \n",
       "494  0.661976  \n",
       "357  0.798966  \n",
       "451  0.703531  "
      ]
     },
     "execution_count": 43,
     "metadata": {},
     "output_type": "execute_result"
    }
   ],
   "source": [
    "df1 = pd.DataFrame(ss1.res2d)\n",
    "df1 = df1.sort_values(by='Name')\n",
    "df1.head()"
   ]
  },
  {
   "cell_type": "code",
   "execution_count": 44,
   "metadata": {},
   "outputs": [
    {
     "name": "stdout",
     "output_type": "stream",
     "text": [
      "done\n",
      "done\n"
     ]
    },
    {
     "name": "stderr",
     "output_type": "stream",
     "text": [
      "2024-07-02 18:25:30,420 [ERROR] No gene sets passed through filtering condition !!! \n",
      "Hint 1: Try to lower min_size or increase max_size !\n",
      "Hint 2: Check gene symbols are identifiable to your gmt input.\n",
      "Hint 3: Gene symbols curated in Enrichr web services are all upcases.\n",
      "\n",
      "2024-07-02 18:25:30,421 [ERROR] The first entry of your gene_sets (gmt) look like this : { MARTINELLI_IMMATURE_NEUTROPHIL_UP: [MMO]}\n",
      "2024-07-02 18:25:30,422 [ERROR] The first 5 genes look like this : [ ARHGEF10L, HIF3A, RNF17, RNF10, RNF11 ]\n"
     ]
    },
    {
     "name": "stdout",
     "output_type": "stream",
     "text": [
      "done\n"
     ]
    },
    {
     "name": "stderr",
     "output_type": "stream",
     "text": [
      "2024-07-02 18:25:42,263 [ERROR] No gene sets passed through filtering condition !!! \n",
      "Hint 1: Try to lower min_size or increase max_size !\n",
      "Hint 2: Check gene symbols are identifiable to your gmt input.\n",
      "Hint 3: Gene symbols curated in Enrichr web services are all upcases.\n",
      "\n",
      "2024-07-02 18:25:42,264 [ERROR] The first entry of your gene_sets (gmt) look like this : { MARTINELLI_IMMATURE_NEUTROPHIL_UP: [DEFA1]}\n",
      "2024-07-02 18:25:42,265 [ERROR] The first 5 genes look like this : [ ARHGEF10L, HIF3A, RNF17, RNF10, RNF11 ]\n"
     ]
    },
    {
     "name": "stdout",
     "output_type": "stream",
     "text": [
      "done\n",
      "done\n",
      "done\n"
     ]
    },
    {
     "name": "stderr",
     "output_type": "stream",
     "text": [
      "2024-07-02 18:26:15,054 [ERROR] No supported gene_sets: /Users/jaeeponde/Documents/iisc training/immature_gene_sig/CTSG.GM\n"
     ]
    },
    {
     "name": "stdout",
     "output_type": "stream",
     "text": [
      "done\n",
      "done\n"
     ]
    }
   ],
   "source": [
    "import os\n",
    "output=\"/Users/jaeeponde/Documents/iisc training/prad_immature.txt\"\n",
    "files='/Users/jaeeponde/Documents/iisc training/immature_gene_sig'\n",
    "\n",
    "with open(output, 'a') as file:\n",
    "        file.write(\"GENE NAME : \")\n",
    "        file.write(\"\\tcorr : \")\n",
    "        file.write(\"\\tp val :  \")\n",
    "\n",
    "\n",
    "for filename in os.listdir(files):\n",
    "    \n",
    "    gene_sets2='/Users/jaeeponde/Documents/iisc training/immature_gene_sig/'+filename\n",
    "\n",
    "    try : \n",
    "\n",
    "        ss2 = gp.ssgsea( data=data,\n",
    "        gene_sets = gene_sets2,\n",
    "        outdir=None,\n",
    "        max_size=2,\n",
    "        min_size=1,\n",
    "        sample_norm_method='rank',\n",
    "        no_plot=True)\n",
    "        print(\"done\")\n",
    "\n",
    "        ss1.res2d\n",
    "\n",
    "        \n",
    "        df2 = pd.DataFrame(ss2.res2d)\n",
    "        df2 = df2.sort_values(by='Name')\n",
    "\n",
    "        correlation_coefficient, p_value = pearsonr(df1['NES'], df2['NES'])\n",
    "\n",
    "        correlation_coefficient=str(correlation_coefficient)\n",
    "        p_value=str(p_value)\n",
    "        \n",
    "\n",
    "        with open(output, 'a') as file:\n",
    "            \n",
    "            file.write('\\n')\n",
    "            file.write(filename+'\\t')\n",
    "            file.write(correlation_coefficient+'\\t')\n",
    "            file.write(p_value)\n",
    "\n",
    "    except :  \n",
    "\n",
    "        with open(output, 'a') as file:\n",
    "            \n",
    "            file.write('\\n')\n",
    "            file.write(filename+'\\t')\n",
    "            file.write('error \\t')\n",
    "            file.write('error \\t')\n"
   ]
  }
 ],
 "metadata": {
  "kernelspec": {
   "display_name": "phcco",
   "language": "python",
   "name": "python3"
  },
  "language_info": {
   "codemirror_mode": {
    "name": "ipython",
    "version": 3
   },
   "file_extension": ".py",
   "mimetype": "text/x-python",
   "name": "python",
   "nbconvert_exporter": "python",
   "pygments_lexer": "ipython3",
   "version": "3.12.3"
  },
  "orig_nbformat": 4
 },
 "nbformat": 4,
 "nbformat_minor": 2
}
